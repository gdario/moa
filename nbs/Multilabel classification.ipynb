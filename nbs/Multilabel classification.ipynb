{
 "cells": [
  {
   "cell_type": "markdown",
   "metadata": {},
   "source": [
    "# Multi-Class and Multi-label Classification\n",
    "\n",
    "In this notebook we address the following questions:\n",
    "\n",
    "1. If all Scikit-Learn classifier are capable of multi-class classification, do you need to do something special with SVC?\n",
    "2. How do you go from multi-class to multi-label? Do you need to wrap the classifier into a `OneVsRest` meta-transformer?\n",
    "3. What is the correct way of taking an XGBoost classifier and make it return a multi-label prediction?\n",
    "\n",
    "For this, we create two datasets: a multi-class and a multi-label one."
   ]
  },
  {
   "cell_type": "code",
   "execution_count": 26,
   "metadata": {},
   "outputs": [],
   "source": [
    "import numpy as np\n",
    "from sklearn.datasets import make_classification\n",
    "from sklearn.datasets import make_multilabel_classification\n",
    "from sklearn.model_selection import train_test_split\n",
    "from sklearn.metrics import confusion_matrix, classification_report\n",
    "from sklearn.svm import SVC\n",
    "from sklearn.ensemble import RandomForestClassifier\n",
    "from sklearn.multiclass import OneVsRestClassifier\n",
    "from sklearn.multioutput import MultiOutputClassifier\n",
    "from sklearn.metrics import log_loss"
   ]
  },
  {
   "cell_type": "code",
   "execution_count": 2,
   "metadata": {},
   "outputs": [],
   "source": [
    "x_mc, y_mc = make_classification(n_samples=500, n_features=20, n_informative=5,\n",
    "                                 n_redundant=5, n_classes=5)\n",
    "x_mc_tr, x_mc_val, y_mc_tr, y_mc_val = train_test_split(x_mc, y_mc, test_size=0.2,\n",
    "                                                       random_state=42, stratify=y_mc)"
   ]
  },
  {
   "cell_type": "markdown",
   "metadata": {},
   "source": [
    "We indicate with `x_ml` and `y_ml` the multilabel dataset.\n",
    "\n",
    "**Question**: what does it mean to stratify w.r.t. a multi-label y?"
   ]
  },
  {
   "cell_type": "code",
   "execution_count": 3,
   "metadata": {},
   "outputs": [],
   "source": [
    "x_ml, y_ml = make_multilabel_classification(\n",
    "    n_samples=500, n_features=20, n_classes=5,\n",
    "                                          n_labels=2, allow_unlabeled=False, random_state=42)\n",
    "x_ml_tr, x_ml_val, y_ml_tr, y_ml_val = train_test_split(x_ml, y_ml, test_size=0.2,\n",
    "                                                       random_state=42, stratify=y_ml)"
   ]
  },
  {
   "cell_type": "markdown",
   "metadata": {},
   "source": [
    "## Multiclass classification with SVC\n",
    "\n",
    "Since the datasets are generated at random, we don't bother looking for the best hyper-parameter configuration. We apply an SVC with default setting to the multi-class dataset.\n",
    "Support Vector Classifiers are known to scale poorly with the number of samples. This is why the default approach to multiclass classification for SVCs is One-vs-One.\n",
    "\n",
    "In the example below, SVC can predict out of the box the multi-class outputs."
   ]
  },
  {
   "cell_type": "code",
   "execution_count": 4,
   "metadata": {},
   "outputs": [],
   "source": [
    "clf = SVC()\n",
    "clf.fit(x_mc_tr, y_mc_tr)\n",
    "pred_mc_val = clf.predict(x_mc_val)"
   ]
  },
  {
   "cell_type": "code",
   "execution_count": 5,
   "metadata": {},
   "outputs": [
    {
     "output_type": "execute_result",
     "data": {
      "text/plain": "array([1, 3, 0, 1, 3, 3, 4, 1, 1, 3, 1, 2, 2, 0, 1, 1, 4, 1, 1, 4, 0, 3,\n       1, 1, 3, 2, 3, 2, 1, 2, 1, 2, 4, 0, 2, 2, 0, 4, 4, 3, 1, 3, 1, 4,\n       3, 4, 3, 1, 3, 0, 2, 1, 1, 4, 4, 0, 4, 0, 1, 3, 0, 3, 0, 2, 0, 0,\n       2, 1, 0, 0, 0, 4, 3, 0, 4, 4, 2, 4, 2, 4, 3, 4, 4, 0, 0, 4, 1, 1,\n       1, 2, 2, 2, 1, 4, 4, 3, 1, 4, 0, 1])"
     },
     "metadata": {},
     "execution_count": 5
    }
   ],
   "source": [
    "pred_mc_val"
   ]
  },
  {
   "cell_type": "code",
   "execution_count": 6,
   "metadata": {
    "tags": []
   },
   "outputs": [
    {
     "output_type": "stream",
     "name": "stdout",
     "text": "              precision    recall  f1-score   support\n\n           0       0.74      0.70      0.72        20\n           1       0.58      0.75      0.65        20\n           2       0.69      0.55      0.61        20\n           3       0.71      0.60      0.65        20\n           4       0.82      0.90      0.86        20\n\n    accuracy                           0.70       100\n   macro avg       0.71      0.70      0.70       100\nweighted avg       0.71      0.70      0.70       100\n\n"
    }
   ],
   "source": [
    "print(classification_report(y_mc_val, pred_mc_val))"
   ]
  },
  {
   "cell_type": "markdown",
   "metadata": {},
   "source": [
    "In the report above, the support of the 5 classes is almost identical by construction, therefore there is no difference between the macro and the weighted average."
   ]
  },
  {
   "cell_type": "markdown",
   "metadata": {},
   "source": [
    "## Multi-label Classification\n",
    "\n",
    "If we now run the code below\n",
    "\n",
    "```py\n",
    "clf.fit(x_ml_tr, y_ml_tr)\n",
    "pred_ml_val = clf.predict(x_ml_val)\n",
    "```\n",
    "\n",
    "We get the error\n",
    "\n",
    "```\n",
    "y should be a 1d array, got an array of shape (400, 5) instead.\n",
    "```\n",
    "\n",
    "This shows that we cannot run multi-label classification out of the box. If, however, we wrap the classifier into `OneVsRest`, we obtain a result."
   ]
  },
  {
   "cell_type": "code",
   "execution_count": 8,
   "metadata": {},
   "outputs": [],
   "source": [
    "clf = OneVsRestClassifier(SVC())\n",
    "clf.fit(x_ml_tr, y_ml_tr)\n",
    "pred_ml_val = clf.predict(x_ml_val)"
   ]
  },
  {
   "cell_type": "code",
   "execution_count": 9,
   "metadata": {},
   "outputs": [
    {
     "output_type": "execute_result",
     "data": {
      "text/plain": "array([[0, 1, 1, 1, 0],\n       [0, 1, 1, 0, 0],\n       [1, 0, 0, 0, 0],\n       [0, 1, 1, 1, 0],\n       [0, 0, 0, 1, 0]])"
     },
     "metadata": {},
     "execution_count": 9
    }
   ],
   "source": [
    "pred_ml_val[:5]"
   ]
  },
  {
   "cell_type": "code",
   "execution_count": 21,
   "metadata": {
    "tags": []
   },
   "outputs": [
    {
     "output_type": "stream",
     "name": "stdout",
     "text": "              precision    recall  f1-score   support\n\n           0       0.89      0.84      0.86        37\n           1       0.84      0.85      0.85        61\n           2       0.88      0.88      0.88        58\n           3       0.88      0.86      0.87        49\n           4       0.67      0.38      0.48        21\n\n   micro avg       0.86      0.81      0.83       226\n   macro avg       0.83      0.76      0.79       226\nweighted avg       0.85      0.81      0.83       226\n samples avg       0.88      0.86      0.85       226\n\n"
    }
   ],
   "source": [
    "print(classification_report(y_ml_val, pred_ml_val))"
   ]
  },
  {
   "cell_type": "markdown",
   "metadata": {},
   "source": [
    "## Log Loss\n",
    "\n",
    "One possible source of confusion, as was the case of the [Kaggle MoA competition](https://www.kaggle.com/c/lish-moa/overview/evaluation), where the metric was defined as:\n",
    "\n",
    "$$\\text{score} = - \\frac{1}{M}\\sum_{m=1}^{M} \\frac{1}{N} \\sum_{i=1}^{N} \\left[ y_{i,m} \\log(\\hat{y}_{i,m}) + (1 - y_{i,m}) \\log(1 - \\hat{y}_{i,m})\\right]$$\n",
    "\n",
    "Compare the definition above with [this definition](https://scikit-learn.org/stable/modules/model_evaluation.html#log-loss) from the Scikit-Learn User Guide.\n",
    "\n",
    "$$L_{\\log}(Y, P) = -\\log \\operatorname{Pr}(Y|P) = - \\frac{1}{N} \\sum_{i=0}^{N-1} \\sum_{k=0}^{K-1} y_{i,k} \\log p_{i,k}$$\n",
    "\n",
    "The former treats each $y{i,m}$ as a binary variable, and multiplies both by its estimated probability *and* it's complement (i.e. $1 - p$). Scikit-Learn's definition applies to a multi-class setting, where there are $K$ classes, but a sample can only belong to a single class. It assumes that, for a given sample $i$, $\\sum\\limits_{k=1}^{K} p_{i,k} = 1$. This is the case shown below as `loss1`.\n",
    "This is not the case in a multi-label setting, and the proper way to compute the loss is the one flagged as `loss2`.\n",
    "Note that log loss needs the class probabilities, and not the label prediction. This is why we need to add `probability=True` to `SVC()`."
   ]
  },
  {
   "cell_type": "code",
   "execution_count": 13,
   "metadata": {
    "tags": []
   },
   "outputs": [
    {
     "output_type": "stream",
     "name": "stdout",
     "text": "2.903450356155452\n"
    }
   ],
   "source": [
    "clf = OneVsRestClassifier(SVC(probability=True, random_state=42))\n",
    "clf.fit(x_ml_tr, y_ml_tr)\n",
    "pred_ml_val = clf.predict_proba(x_ml_val)\n",
    "\n",
    "loss1 = log_loss(y_ml_val, pred_ml_val)\n",
    "print(loss1)"
   ]
  },
  {
   "cell_type": "code",
   "execution_count": 14,
   "metadata": {
    "tags": []
   },
   "outputs": [
    {
     "output_type": "stream",
     "name": "stdout",
     "text": "0.35667783047957463\n"
    }
   ],
   "source": [
    "loss2 = log_loss(y_ml_val.ravel(), pred_ml_val.ravel())\n",
    "print(loss2)"
   ]
  },
  {
   "cell_type": "markdown",
   "metadata": {},
   "source": [
    "## OneVsRestClassifier vs MultiOutputClassifier\n",
    "\n",
    "The difference between these two meta-estimators is not clear from the documentation."
   ]
  },
  {
   "cell_type": "code",
   "execution_count": 18,
   "metadata": {
    "tags": []
   },
   "outputs": [
    {
     "output_type": "stream",
     "name": "stdout",
     "text": "<class 'list'>\n5\n"
    },
    {
     "output_type": "execute_result",
     "data": {
      "text/plain": "(None, None)"
     },
     "metadata": {},
     "execution_count": 18
    }
   ],
   "source": [
    "clf = MultiOutputClassifier(SVC(probability=True, random_state=42))\n",
    "clf.fit(x_ml_tr, y_ml_tr)\n",
    "pred_ml_val = clf.predict_proba(x_ml_val)\n",
    "print(type(pred_ml_val)), print(len(pred_ml_val))"
   ]
  },
  {
   "source": [
    "As we can see, `pred_ml_val` is a *list* of length 5, which is the number of classes. Each component of the list corresponds to the corresponding class. The content of each component is as follows:"
   ],
   "cell_type": "markdown",
   "metadata": {}
  },
  {
   "cell_type": "code",
   "execution_count": 20,
   "metadata": {
    "tags": []
   },
   "outputs": [
    {
     "output_type": "stream",
     "name": "stdout",
     "text": "(100, 2)\n"
    },
    {
     "output_type": "execute_result",
     "data": {
      "text/plain": "array([[0.98185781, 0.01814219],\n       [0.8341867 , 0.1658133 ],\n       [0.02134099, 0.97865901],\n       [0.9474618 , 0.0525382 ],\n       [0.87934704, 0.12065296]])"
     },
     "metadata": {},
     "execution_count": 20
    }
   ],
   "source": [
    "print(pred_ml_val[0].shape)\n",
    "pred_ml_val[0][:5]"
   ]
  },
  {
   "source": [
    "As we can see, each list component is an array containing $N$ rows, where $N$ is the number of samples, and 2 columns which add to 1."
   ],
   "cell_type": "markdown",
   "metadata": {}
  },
  {
   "source": [
    "pred_ml_val[0].sum(axis=1)[:5]"
   ],
   "cell_type": "code",
   "metadata": {},
   "execution_count": 22,
   "outputs": [
    {
     "output_type": "execute_result",
     "data": {
      "text/plain": "array([1., 1., 1., 1., 1.])"
     },
     "metadata": {},
     "execution_count": 22
    }
   ]
  },
  {
   "source": [
    "The two columns correspond to the probabilities of the label being 0 or 1 for that particular class. This shows an alternative way of computing the log loss we computed before.\n",
    "\n",
    "**TODO: FIND OUT HOW**"
   ],
   "cell_type": "markdown",
   "metadata": {}
  },
  {
   "cell_type": "code",
   "execution_count": 10,
   "metadata": {},
   "outputs": [],
   "source": [
    "clf = RandomForestClassifier()\n",
    "clf.fit(x_mc_tr, y_mc_tr)\n",
    "pred_mc_val = clf.predict(x_mc_val)"
   ]
  },
  {
   "cell_type": "code",
   "execution_count": 11,
   "metadata": {},
   "outputs": [
    {
     "data": {
      "text/plain": [
       "array([0, 3, 2, 1, 3, 2, 3, 4, 1, 1, 2, 0, 2, 2, 1, 0, 3, 3, 3, 1, 2, 4,\n",
       "       1, 1, 3, 3, 3, 2, 2, 3, 2, 2, 1, 0, 2, 3, 3, 2, 2, 3, 3, 2, 4, 1,\n",
       "       3, 4, 3, 0, 4, 0, 1, 0, 3, 4, 2, 0, 4, 0, 1, 1, 0, 3, 0, 1, 0, 1,\n",
       "       0, 3, 0, 2, 2, 1, 1, 0, 2, 4, 2, 2, 2, 2, 3, 4, 4, 2, 0, 4, 1, 2,\n",
       "       1, 3, 0, 2, 1, 4, 4, 3, 3, 4, 4, 4])"
      ]
     },
     "execution_count": 11,
     "metadata": {},
     "output_type": "execute_result"
    }
   ],
   "source": [
    "pred_mc_val"
   ]
  },
  {
   "cell_type": "code",
   "execution_count": 12,
   "metadata": {},
   "outputs": [
    {
     "name": "stdout",
     "output_type": "stream",
     "text": [
      "              precision    recall  f1-score   support\n",
      "\n",
      "           0       0.76      0.68      0.72        19\n",
      "           1       0.74      0.70      0.72        20\n",
      "           2       0.60      0.71      0.65        21\n",
      "           3       0.57      0.65      0.60        20\n",
      "           4       0.69      0.55      0.61        20\n",
      "\n",
      "    accuracy                           0.66       100\n",
      "   macro avg       0.67      0.66      0.66       100\n",
      "weighted avg       0.67      0.66      0.66       100\n",
      "\n"
     ]
    }
   ],
   "source": [
    "print(classification_report(y_mc_val, pred_mc_val))"
   ]
  },
  {
   "cell_type": "markdown",
   "metadata": {},
   "source": [
    "### Multi-Label Classification\n",
    "\n",
    "We can pass a multi-label dataset to a Random Forest estimator without wrapping it into a `OneVsRest` meta-estimator."
   ]
  },
  {
   "cell_type": "code",
   "execution_count": 13,
   "metadata": {},
   "outputs": [],
   "source": [
    "clf.fit(x_ml_tr, y_ml_tr)\n",
    "pred_ml_val = clf.predict(x_ml_val)"
   ]
  },
  {
   "cell_type": "code",
   "execution_count": 14,
   "metadata": {},
   "outputs": [
    {
     "data": {
      "text/plain": [
       "array([[0, 0, 1, 1, 0],\n",
       "       [0, 1, 1, 1, 0],\n",
       "       [1, 0, 0, 0, 0],\n",
       "       [0, 1, 1, 1, 0],\n",
       "       [0, 0, 0, 1, 0]])"
      ]
     },
     "execution_count": 14,
     "metadata": {},
     "output_type": "execute_result"
    }
   ],
   "source": [
    "pred_ml_val[:5]"
   ]
  },
  {
   "cell_type": "code",
   "execution_count": 63,
   "metadata": {},
   "outputs": [
    {
     "name": "stdout",
     "output_type": "stream",
     "text": [
      "              precision    recall  f1-score   support\n",
      "\n",
      "           0       0.74      0.62      0.68        37\n",
      "           1       0.82      0.95      0.88        61\n",
      "           2       0.81      0.93      0.86        58\n",
      "           3       0.78      0.80      0.79        49\n",
      "           4       0.83      0.24      0.37        21\n",
      "\n",
      "   micro avg       0.80      0.79      0.79       226\n",
      "   macro avg       0.80      0.71      0.72       226\n",
      "weighted avg       0.80      0.79      0.77       226\n",
      " samples avg       0.83      0.85      0.81       226\n",
      "\n"
     ]
    }
   ],
   "source": [
    "print(classification_report(y_ml_val, pred_ml_val))"
   ]
  },
  {
   "cell_type": "markdown",
   "metadata": {},
   "source": [
    "## XGBoost for multi-class classification"
   ]
  },
  {
   "cell_type": "code",
   "execution_count": 42,
   "metadata": {},
   "outputs": [],
   "source": [
    "import xgboost as xgb\n",
    "\n",
    "dtrain = xgb.DMatrix(data=x_mc_tr, label=y_mc_tr)\n",
    "dtest = xgb.DMatrix(data=x_mc_val, label=y_mc_val)"
   ]
  },
  {
   "cell_type": "markdown",
   "metadata": {},
   "source": [
    "XGBoost has a `multi:softprob` option, which, according to the documentation, is\n",
    "\n",
    "> same as softmax, but output a vector of ndata * nclass, which can be further reshaped to ndata * nclass matrix. The result contains predicted probability of each data point belonging to each class.\n",
    "\n",
    "Note also that the `eval_metric` parameters admits a `mlogloss` option corresponding to the multi-class log-loss. The documentation for this parameter points directly to Scikit-Learn's documentation for the same function. "
   ]
  },
  {
   "cell_type": "code",
   "execution_count": 66,
   "metadata": {},
   "outputs": [],
   "source": [
    "params = {'max_depth': 2, 'eta': 1, 'objective': 'multi:softmax',\n",
    "          'eval_metric': 'mlogloss', 'num_class': 5}\n",
    "bst = xgb.train(params, dtrain, 2)"
   ]
  },
  {
   "cell_type": "code",
   "execution_count": 67,
   "metadata": {},
   "outputs": [],
   "source": [
    "preds = bst.predict(dtest)"
   ]
  },
  {
   "cell_type": "code",
   "execution_count": 68,
   "metadata": {},
   "outputs": [
    {
     "data": {
      "text/plain": [
       "array([0., 0., 0., 1., 3., 1., 2., 3., 0., 1., 4., 2., 2., 2., 2., 3., 3.,\n",
       "       2., 2., 3., 2., 3., 1., 4., 2., 2., 2., 2., 4., 0., 0., 0., 3., 0.,\n",
       "       2., 2., 0., 4., 4., 3., 2., 3., 2., 2., 3., 4., 3., 4., 2., 0., 2.,\n",
       "       3., 0., 0., 4., 3., 3., 0., 4., 3., 0., 2., 2., 2., 0., 0., 3., 3.,\n",
       "       0., 1., 0., 4., 4., 0., 3., 2., 4., 4., 0., 4., 3., 4., 1., 3., 4.,\n",
       "       1., 1., 3., 3., 2., 0., 2., 2., 4., 4., 3., 3., 3., 0., 0.],\n",
       "      dtype=float32)"
      ]
     },
     "execution_count": 68,
     "metadata": {},
     "output_type": "execute_result"
    }
   ],
   "source": [
    "preds"
   ]
  },
  {
   "cell_type": "code",
   "execution_count": 69,
   "metadata": {},
   "outputs": [
    {
     "name": "stdout",
     "output_type": "stream",
     "text": [
      "              precision    recall  f1-score   support\n",
      "\n",
      "           0       0.48      0.58      0.52        19\n",
      "           1       0.62      0.24      0.34        21\n",
      "           2       0.38      0.50      0.43        20\n",
      "           3       0.48      0.60      0.53        20\n",
      "           4       0.50      0.45      0.47        20\n",
      "\n",
      "    accuracy                           0.47       100\n",
      "   macro avg       0.49      0.47      0.46       100\n",
      "weighted avg       0.50      0.47      0.46       100\n",
      "\n"
     ]
    }
   ],
   "source": [
    "print(classification_report(y_mc_val, preds))"
   ]
  },
  {
   "cell_type": "markdown",
   "metadata": {},
   "source": [
    "## XGBoost for multi-label classification\n",
    "\n",
    "`xgb.dtrain` throws an error if we try to pass a 2D array of one-hot encoded labels. The (rather cryptic) error message is\n",
    "\n",
    "> only size-1 arrays can be converted to Python scalars\n",
    "\n",
    "The `xgb` package, however, provides a Scikit-Learn API and, in particular, the `XGBClassifier` class. This, alone, does not work with multi-label datasets, but it can be wrapped into a `OneVsRestClassifier` meta-estimator."
   ]
  },
  {
   "cell_type": "code",
   "execution_count": 78,
   "metadata": {},
   "outputs": [],
   "source": [
    "params = {'max_depth': 2, 'eta': 1, 'objective': 'multi:softprob',\n",
    "          'eval_metric': 'mlogloss', 'num_class': 5}\n",
    "clf = OneVsRestClassifier(xgb.XGBClassifier(**params))"
   ]
  },
  {
   "cell_type": "code",
   "execution_count": 79,
   "metadata": {},
   "outputs": [],
   "source": [
    "clf.fit(x_ml_tr, y_ml_tr)\n",
    "pred_ml_val = clf.predict(x_ml_val)"
   ]
  },
  {
   "cell_type": "code",
   "execution_count": 80,
   "metadata": {},
   "outputs": [
    {
     "data": {
      "text/plain": [
       "array([[0, 0, 1, 0, 0],\n",
       "       [0, 1, 1, 0, 0],\n",
       "       [1, 0, 0, 0, 0],\n",
       "       [0, 1, 1, 1, 0],\n",
       "       [1, 0, 0, 1, 0]])"
      ]
     },
     "execution_count": 80,
     "metadata": {},
     "output_type": "execute_result"
    }
   ],
   "source": [
    "pred_ml_val[:5]"
   ]
  },
  {
   "cell_type": "code",
   "execution_count": 81,
   "metadata": {},
   "outputs": [
    {
     "name": "stdout",
     "output_type": "stream",
     "text": [
      "              precision    recall  f1-score   support\n",
      "\n",
      "           0       0.77      0.65      0.71        37\n",
      "           1       0.89      0.84      0.86        61\n",
      "           2       0.85      0.88      0.86        58\n",
      "           3       0.79      0.78      0.78        49\n",
      "           4       0.58      0.52      0.55        21\n",
      "\n",
      "   micro avg       0.81      0.77      0.79       226\n",
      "   macro avg       0.78      0.73      0.75       226\n",
      "weighted avg       0.81      0.77      0.79       226\n",
      " samples avg       0.84      0.81      0.79       226\n",
      "\n"
     ]
    },
    {
     "name": "stderr",
     "output_type": "stream",
     "text": [
      "/home/giovenko/miniconda3/envs/ml/lib/python3.8/site-packages/sklearn/metrics/_classification.py:1221: UndefinedMetricWarning: Precision and F-score are ill-defined and being set to 0.0 in samples with no predicted labels. Use `zero_division` parameter to control this behavior.\n",
      "  _warn_prf(average, modifier, msg_start, len(result))\n"
     ]
    }
   ],
   "source": [
    "print(classification_report(y_ml_val, pred_ml_val))"
   ]
  },
  {
   "cell_type": "code",
   "execution_count": null,
   "metadata": {},
   "outputs": [],
   "source": []
  }
 ],
 "metadata": {
  "kernelspec": {
   "display_name": "Python 3",
   "language": "python",
   "name": "python3"
  },
  "language_info": {
   "codemirror_mode": {
    "name": "ipython",
    "version": 3
   },
   "file_extension": ".py",
   "mimetype": "text/x-python",
   "name": "python",
   "nbconvert_exporter": "python",
   "pygments_lexer": "ipython3",
   "version": "3.8.5-final"
  }
 },
 "nbformat": 4,
 "nbformat_minor": 4
}