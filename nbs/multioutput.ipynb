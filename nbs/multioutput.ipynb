{
 "cells": [
  {
   "cell_type": "markdown",
   "metadata": {},
   "source": [
    "# `OneVsRestClassifier` vs `MultiOutputClassifier`"
   ]
  },
  {
   "cell_type": "code",
   "execution_count": 54,
   "metadata": {},
   "outputs": [],
   "source": [
    "import numpy as np\n",
    "from sklearn.datasets import make_classification\n",
    "from sklearn.datasets import make_multilabel_classification\n",
    "from sklearn.model_selection import train_test_split\n",
    "from sklearn.linear_model import LogisticRegression\n",
    "from sklearn.ensemble import RandomForestClassifier\n",
    "from sklearn.multiclass import OneVsRestClassifier\n",
    "from sklearn.multioutput import MultiOutputClassifier\n",
    "from sklearn.metrics import log_loss, f1_score, accuracy_score"
   ]
  },
  {
   "cell_type": "code",
   "execution_count": 41,
   "metadata": {},
   "outputs": [],
   "source": [
    "x, y = make_multilabel_classification(n_samples=500, n_features=20,\n",
    "    n_classes=5, n_labels=2, allow_unlabeled=False,\n",
    "    random_state=42)\n",
    "x_tr, x_val, y_tr, y_val = train_test_split(x, y, test_size=0.2,\n",
    "                                            random_state=42, stratify=y)"
   ]
  },
  {
   "cell_type": "code",
   "execution_count": 42,
   "metadata": {},
   "outputs": [],
   "source": [
    "clf = LogisticRegression()\n",
    "clf_ovr = OneVsRestClassifier(clf)\n",
    "clf_moc = MultiOutputClassifier(clf)"
   ]
  },
  {
   "cell_type": "code",
   "execution_count": 43,
   "metadata": {},
   "outputs": [],
   "source": [
    "clf_ovr.fit(x_tr, y_tr)\n",
    "preds_ovr = clf_ovr.predict(x_val)\n",
    "proba_ovr = clf_ovr.predict_proba(x_val)"
   ]
  },
  {
   "cell_type": "code",
   "execution_count": 44,
   "metadata": {},
   "outputs": [],
   "source": [
    "clf_moc.fit(x_tr, y_tr)\n",
    "preds_moc = clf_moc.predict(x_val)\n",
    "proba_moc = clf_moc.predict_proba(x_val)"
   ]
  },
  {
   "cell_type": "code",
   "execution_count": 45,
   "metadata": {},
   "outputs": [
    {
     "output_type": "execute_result",
     "data": {
      "text/plain": "(100, 5)"
     },
     "metadata": {},
     "execution_count": 45
    }
   ],
   "source": [
    "proba_ovr.shape"
   ]
  },
  {
   "cell_type": "code",
   "execution_count": 46,
   "metadata": {},
   "outputs": [
    {
     "output_type": "execute_result",
     "data": {
      "text/plain": "(5, (100, 2))"
     },
     "metadata": {},
     "execution_count": 46
    }
   ],
   "source": [
    "len(proba_moc), proba_moc[0].shape"
   ]
  },
  {
   "cell_type": "code",
   "execution_count": 47,
   "metadata": {},
   "outputs": [
    {
     "output_type": "execute_result",
     "data": {
      "text/plain": "0.4074235265298689"
     },
     "metadata": {},
     "execution_count": 47
    }
   ],
   "source": [
    "log_loss(y_val.ravel(), proba_ovr.ravel())"
   ]
  },
  {
   "cell_type": "code",
   "execution_count": 48,
   "metadata": {},
   "outputs": [
    {
     "output_type": "execute_result",
     "data": {
      "text/plain": "array([[0.00834483, 0.76214308, 0.9738294 , 0.31079416, 0.18031951],\n       [0.43231617, 0.99863548, 0.93038194, 0.10891879, 0.00443261],\n       [0.9999991 , 0.02551868, 0.47593717, 0.05788946, 0.02618498],\n       [0.05052963, 0.9801258 , 0.76264921, 0.78499218, 0.01984307],\n       [0.18210457, 0.15661448, 0.13703427, 0.99730301, 0.25770792]])"
     },
     "metadata": {},
     "execution_count": 48
    }
   ],
   "source": [
    "proba_ovr[:5]"
   ]
  },
  {
   "source": [
    "The multi-output predictions have the probability of the 0 label in the first column and for the 1 label in the second column."
   ],
   "cell_type": "markdown",
   "metadata": {}
  },
  {
   "cell_type": "code",
   "execution_count": 49,
   "metadata": {},
   "outputs": [
    {
     "output_type": "execute_result",
     "data": {
      "text/plain": "array([[9.91655171e-01, 8.34482867e-03],\n       [5.67683832e-01, 4.32316168e-01],\n       [8.99624308e-07, 9.99999100e-01],\n       [9.49470367e-01, 5.05296327e-02],\n       [8.17895432e-01, 1.82104568e-01]])"
     },
     "metadata": {},
     "execution_count": 49
    }
   ],
   "source": [
    "proba_moc[0][:5]"
   ]
  },
  {
   "source": [
    "However, when we ravel, we have the 5 class probabilities for the first sample, followed by the 5 class probabilities for the second, and so on."
   ],
   "cell_type": "markdown",
   "metadata": {}
  },
  {
   "cell_type": "code",
   "execution_count": 50,
   "metadata": {},
   "outputs": [
    {
     "output_type": "execute_result",
     "data": {
      "text/plain": "array([0.00834483, 0.76214308, 0.9738294 , 0.31079416, 0.18031951])"
     },
     "metadata": {},
     "execution_count": 50
    }
   ],
   "source": [
    "proba_ovr.ravel()[:5]"
   ]
  },
  {
   "source": [
    "Same thing, obviously, for the class labels."
   ],
   "cell_type": "markdown",
   "metadata": {}
  },
  {
   "cell_type": "code",
   "execution_count": 51,
   "metadata": {
    "tags": []
   },
   "outputs": [
    {
     "output_type": "stream",
     "name": "stdout",
     "text": "[[0 0 1 1 0]\n [1 1 0 0 0]\n [1 0 0 0 0]\n [0 1 0 0 0]\n [0 0 0 1 0]]\n[0 0 1 1 0]\n"
    }
   ],
   "source": [
    "print(y_val[:5])\n",
    "print(y_val.ravel()[:5])"
   ]
  },
  {
   "source": [
    "According to [this page](https://scikit-learn.org/stable/modules/generated/sklearn.metrics.accuracy_score.html) this is the correct approach."
   ],
   "cell_type": "markdown",
   "metadata": {}
  },
  {
   "cell_type": "code",
   "execution_count": 55,
   "metadata": {},
   "outputs": [
    {
     "output_type": "execute_result",
     "data": {
      "text/plain": "0.32"
     },
     "metadata": {},
     "execution_count": 55
    }
   ],
   "source": [
    "accuracy_score(y_val, preds_ovr)"
   ]
  },
  {
   "source": [
    "While this is incorrect. **WHY?**"
   ],
   "cell_type": "markdown",
   "metadata": {}
  },
  {
   "cell_type": "code",
   "execution_count": 56,
   "metadata": {},
   "outputs": [
    {
     "output_type": "execute_result",
     "data": {
      "text/plain": "0.81"
     },
     "metadata": {},
     "execution_count": 56
    }
   ],
   "source": [
    "accuracy_score(y_val.ravel(), preds_ovr.ravel())"
   ]
  },
  {
   "cell_type": "code",
   "execution_count": 58,
   "metadata": {},
   "outputs": [
    {
     "output_type": "execute_result",
     "data": {
      "text/plain": "0.7912087912087912"
     },
     "metadata": {},
     "execution_count": 58
    }
   ],
   "source": [
    "f1_score(y_val.ravel(), preds_ovr.ravel())"
   ]
  },
  {
   "cell_type": "code",
   "execution_count": 59,
   "metadata": {},
   "outputs": [
    {
     "output_type": "execute_result",
     "data": {
      "text/plain": "0.32"
     },
     "metadata": {},
     "execution_count": 59
    }
   ],
   "source": [
    "accuracy_score(y_val, preds_moc)"
   ]
  },
  {
   "cell_type": "code",
   "execution_count": null,
   "metadata": {},
   "outputs": [],
   "source": []
  }
 ],
 "metadata": {
  "kernelspec": {
   "display_name": "Python 3",
   "language": "python",
   "name": "python3"
  },
  "language_info": {
   "codemirror_mode": {
    "name": "ipython",
    "version": 3
   },
   "file_extension": ".py",
   "mimetype": "text/x-python",
   "name": "python",
   "nbconvert_exporter": "python",
   "pygments_lexer": "ipython3",
   "version": "3.8.5-final"
  }
 },
 "nbformat": 4,
 "nbformat_minor": 4
}